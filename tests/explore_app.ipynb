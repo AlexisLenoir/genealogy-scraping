{
 "cells": [
  {
   "cell_type": "code",
   "execution_count": 6,
   "metadata": {},
   "outputs": [],
   "source": [
    "import re \n",
    "import json\n",
    "import requests\n",
    "from requests.auth import HTTPDigestAuth\n",
    "from bs4 import BeautifulSoup\n",
    "import boto3\n",
    "import time\n",
    "import random\n",
    "import os\n",
    "import genealogy_scraping.src.app as app"
   ]
  },
  {
   "cell_type": "code",
   "execution_count": 86,
   "metadata": {},
   "outputs": [
    {
     "data": {
      "text/plain": [
       "'/Users/alexislenoir/python3.10_ws/extract_roglo'"
      ]
     },
     "execution_count": 86,
     "metadata": {},
     "output_type": "execute_result"
    }
   ],
   "source": [
    "os.getcwd()"
   ]
  },
  {
   "cell_type": "markdown",
   "metadata": {},
   "source": [
    "# Format"
   ]
  },
  {
   "cell_type": "markdown",
   "metadata": {},
   "source": [
    "### Json event sent to Lambda function"
   ]
  },
  {
   "cell_type": "code",
   "execution_count": null,
   "metadata": {},
   "outputs": [],
   "source": [
    "{\n",
    "    \"Records\": [\n",
    "        {\n",
    "            \"messageId\": \"\",\n",
    "            \"receiptHandle\": \"\",\n",
    "            \"body\": \"{\\\"ancestor_id\\\": 7766850, \\\"level\\\": 0}\",\n",
    "            \"attributes\": {\n",
    "                \"ApproximateReceiveCount\": \"1\",\n",
    "                \"SentTimestamp\": \"\",\n",
    "                \"SenderId\": \"\",\n",
    "                \"ApproximateFirstReceiveTimestamp\": \"\"\n",
    "            },\n",
    "            \"messageAttributes\": {},\n",
    "            \"md5OfBody\": \"\",\n",
    "            \"eventSource\": \"aws:sqs\",\n",
    "            \"eventSourceARN\": \"\",\n",
    "            \"awsRegion\": \"us-east-2\"\n",
    "        }\n",
    "    ]\n",
    "}"
   ]
  },
  {
   "cell_type": "markdown",
   "metadata": {},
   "source": [
    "### Body of message"
   ]
  },
  {
   "cell_type": "code",
   "execution_count": 18,
   "metadata": {},
   "outputs": [
    {
     "data": {
      "text/plain": [
       "{'ancestor_id': 6448008, 'level': 0, 'maximum_level': 3}"
      ]
     },
     "execution_count": 18,
     "metadata": {},
     "output_type": "execute_result"
    }
   ],
   "source": [
    "{\n",
    "    \"ancestor_id\": 6448008, \n",
    "    \"level\": 0,\n",
    "    \"maximum_level\": 3 # optionnel par défaut 1\n",
    "}"
   ]
  },
  {
   "cell_type": "markdown",
   "metadata": {},
   "source": [
    "### Json event sent to lambda function simplified for testing"
   ]
  },
  {
   "cell_type": "code",
   "execution_count": null,
   "metadata": {},
   "outputs": [],
   "source": [
    "# Event JSON\n",
    "{\n",
    "  \"Records\": [\n",
    "        {\"body\" : \n",
    "            \"{\\\"ancestor_id\\\": 7766850, \\\"level\\\": 0}\"     \n",
    "        }\n",
    "    ]\n",
    "}"
   ]
  },
  {
   "cell_type": "markdown",
   "metadata": {},
   "source": [
    "### Test Json"
   ]
  },
  {
   "cell_type": "code",
   "execution_count": 3,
   "metadata": {},
   "outputs": [
    {
     "data": {
      "text/plain": [
       "{'ancestor_id': 7766850, 'level': 0}"
      ]
     },
     "execution_count": 3,
     "metadata": {},
     "output_type": "execute_result"
    }
   ],
   "source": [
    "import json\n",
    "json.loads(\"{\\\"ancestor_id\\\": 7766850, \\\"level\\\": 0}\")"
   ]
  },
  {
   "cell_type": "code",
   "execution_count": 79,
   "metadata": {},
   "outputs": [
    {
     "data": {
      "text/plain": [
       "'{\"ancestor_id\": 7134331}'"
      ]
     },
     "execution_count": 79,
     "metadata": {},
     "output_type": "execute_result"
    }
   ],
   "source": [
    "json.dumps({'ancestor_id': 7134331})"
   ]
  },
  {
   "cell_type": "markdown",
   "metadata": {},
   "source": [
    "## Variables d'environnement"
   ]
  },
  {
   "cell_type": "code",
   "execution_count": 96,
   "metadata": {},
   "outputs": [],
   "source": [
    "# os.environ['AWS_REGION']\n",
    "# os.environ['databaseName']"
   ]
  },
  {
   "cell_type": "markdown",
   "metadata": {},
   "source": [
    "### Test get id"
   ]
  },
  {
   "cell_type": "code",
   "execution_count": 88,
   "metadata": {},
   "outputs": [
    {
     "data": {
      "text/plain": [
       "'1640524'"
      ]
     },
     "execution_count": 88,
     "metadata": {},
     "output_type": "execute_result"
    }
   ],
   "source": [
    "app.get_id(\"roglo?lang=fr;i=1640524\")"
   ]
  },
  {
   "cell_type": "markdown",
   "metadata": {},
   "source": [
    "## Test de get_ancestor()"
   ]
  },
  {
   "cell_type": "code",
   "execution_count": 90,
   "metadata": {},
   "outputs": [
    {
     "data": {
      "text/plain": [
       "({'id': 7771085,\n",
       "  'html_source': '<!DOCTYPE html PUBLIC \"-//W3C//DTD XHTML 1.1//EN\"\\n \"http://www.w3.org/TR/xhtml11/DTD/xhtml11.dtd\">\\n<html xmlns=\"http://www.w3.org/1999/xhtml\">\\n<head>\\n<!-- $Id: perso.txt,v 6.08 2020-05-06 15:01:07 hg Exp $ -->\\n<!-- Copyright (c) 1998-2007 INRIA -->\\n<title>Emmanuelle.1 Laurent</title>\\n<meta http-equiv=\"Content-Style-Type\" content=\"text/css\" />\\n<meta http-equiv=\"Content-Type\" content=\"text/html; charset=utf-8\" />\\n<meta name=\"robots\" content=\"none\" />\\n<script type=\"text/javascript\">\\n<!--\\nvar gw_image_prefix = \"https://img.roglo.eu\";\\nvar gw_lang = \"fr\";\\nvar gw_user_name = \"Alexis Lenoir\";\\nvar gw_geo = 0;\\n-->\\n</script>\\n\\n<!-- base:  %base.name?,  %b?,  %s?, \"roglo_f?\", w: , f: friend, -->\\n\\n\\n<link rel=\"shortcut icon\" href=\"https://img.roglo.eu/gw.png\" />\\n<link href=\"https://img.roglo.eu/default.css\" type=\"text/css\" rel=\"stylesheet\"  />\\n<style type=\"text/css\">\\nbody {\\nbackground-image: url(\"https://img.roglo.eu/gwback.jpg\");\\n}\\n/* roglo, roglo_f? */\\nimg { border:0px; }\\n</style>\\n\\n<link rel=\"shortcut icon\" href=\"https://img.roglo.eu/bfemale.png\"  />\\n<script type=\"text/javascript\" src=\\'https://img.roglo.eu/inc/pays-fr.js\\'></script>\\n<script type=\"text/javascript\" src=\\'https://img.roglo.eu/inc/lieu.js\\'></script>\\n<script type=\"text/javascript\">\\ntraite_lieu = 0;\\n</script>\\n<script type=\"text/javascript\" src=\"jquery_1_9_1_min.js\"></script>\\n<!-- $Id: css.txt rg Exp $ -->\\n<link href=\"https://img.roglo.eu/default.css\" type=\"text/css\" rel=\"stylesheet\"  />\\n\\n</head>\\n\\n\\n<!-- perso_header.txt 2018-07-30 hg -->\\n\\n<!-- $Id: menubar.txt,v 1.0 2018/07/03 09:53:12 hg Exp $ -->\\n\\n<ul id=\"menuBar\">\\n<li class=\"person on\">\\n<a href=\"roglo_f?lang=fr;i=7771085\">\\n<span class=\"text\">bouton fiche</span>\\n</a>\\n</li>\\n\\n\\n\\n<li class=\"liste \">\\n<a href=\"roglo_f?lang=fr;m=A;i=7771085\" alt=\"Ascendants et descendants\" title=\"Ascendants et descendants\">\\n<span class=\"text\">bouton listes et états</span>\\n</a>\\n<div>\\n<ul>\\n<li><a href=\"roglo_f?lang=fr;m=A;i=7771085\">Ascendants</a></li>\\n\\n</ul>\\n</div>\\n</li>\\n\\n<li class=\"parente \">\\n<a href=\"roglo_f?lang=fr;m=R;i=7771085\" accesskey=\"R\" alt=\"Parenté\" title=\"Parenté\">\\n<span class=\"text\">bouton parenté</span>\\n</a>\\n<div>\\n<ul>\\n<li>\\n<a href=\"roglo_f?lang=fr;i=7771085;m=C;t=AN\">Anniversaires des proches</a>\\n</li>\\n\\n<li class=\"menubar_separateur\">&nbsp;</li>\\n\\n</ul>\\n</div>\\n</li>\\n\\n<li class=\"misc \">\\n<a href=\"javascript:;\" alt=\"Divers\" title=\"Divers\">\\n<span class=\"text\">bouton misc</span>\\n</a>\\n<div>\\n<ul>\\n\\n<li>\\n<a href=\"roglo_f?lang=fr;iz=7771085;i=7771085\">\\nNavigation avec Emmanuelle Laurent  comme référence Sosa.\\n</a>\\n</li>\\n<li>\\n<a href=\"roglo_f?lang=fr;i=7771084\">\\nFrère précédent</a>\\n</li>\\n</ul>\\n</div>\\n</li>\\n</ul>\\n<script type=\"text/javascript\">\\n$(document).ready(function(){\\n$(\"#menuBar > li > div\").click(function(){\\n$(\"#menuBar > li div.hover\").removeClass(\"hover\");\\n$(\"#menuBar > li.hover\").removeClass(\"hover\");\\n$(\"#menuBar > li > div li\").removeClass(\"hover\");\\n$(this).parent().toggleClass(\"hover\");\\n$(this).toggleClass(\"hover\");\\nreturn false;\\n});\\n\\n$(\"#menuBar > li.misc > a\").click(function(){\\n$(\"#menuBar > li div.hover\").removeClass(\"hover\");\\n$(\"#menuBar > li.hover\").removeClass(\"hover\");\\n$(\"#menuBar > li > div li\").removeClass(\"hover\");\\n$(this).parent().toggleClass(\"hover\");\\n$(this).parent().children(\"div\").toggleClass(\"hover\");\\nreturn false;\\n});\\n\\n$(\"#menuBar > li.liste > a\").click(function(){\\n$(\"#menuBar > li div.hover\").removeClass(\"hover\");\\n$(\"#menuBar > li.hover\").removeClass(\"hover\");\\n$(\"#menuBar > li > div li\").removeClass(\"hover\");\\n$(this).parent().toggleClass(\"hover\");\\n$(this).parent().children(\"div\").toggleClass(\"hover\");\\nreturn false;\\n});\\n\\n$(\"#menuBar > li > div li\").click(function(){\\n$(\"#menuBar > li > div li\").removeClass(\"hover\");\\n$(this).toggleClass(\"hover\");\\nreturn false;\\n});\\n\\n$(\"#menuBar > li > div li a\").click(function(){\\nif(typeof ($(this).attr(\"onclick\")) == \"undefined\" || $(this).attr(\"onclick\") == \"\"){\\nwindow.location = $(this).attr(\"href\");\\nreturn false;\\n}\\n});\\n\\n$(document).click(function(){\\n$(\"#menuBar > li div.hover\").removeClass(\"hover\");\\n$(\"#menuBar > li.hover\").removeClass(\"hover\");\\n$(\"#menuBar > li > div li\").removeClass(\"hover\");\\n});\\n});\\n</script>\\n\\n<table style=\"float:right\">\\n<tr>\\n<td>\\n<a href=\"roglo_f?lang=fr;\"><img src=\"https://img.roglo.eu/up.png\" width=\"24\" height=\"29\" \\nstyle=\"border: 0\" alt=\"^^\" title=\"^^\" /></a>\\n</td>\\n</tr>\\n</table>\\n\\n<h1>\\n<a href=\"roglo_f?lang=fr;templ=rg;i=7771085;\">\\n<img src=\"https://img.roglo.eu/file.png\" width=\"29\" height=\"24\"\\nstyle=\"border: 0\" alt=\"Tpl\" title=\"Switch Template\" /></a>\\n\\n<img width=\"\" height=\"\" src=\"https://img.roglo.eu/female.png\" style=\"border: none\" alt=\"F\" /> <a href=\"roglo_f?lang=fr;m=P;v=emmanuelle\">Emmanuelle</a>\\n<a href=\"roglo_f?lang=fr;m=N;v=laurent\">Laurent</a>\\n&nbsp;\\n<a href=\"roglo_f?lang=fr;;em=R;ei=7771085;m=NG;select=input;n=alexis.3+lenoir;t=PN;spouse=on;long=on;et=S\"\\ntitle=\"Chemin le plus court entre moi et cette personne\">\\n<img src=\"https://img.roglo.eu/link.jpg\" alt=\"W\" /></a>\\n<a href=\"http://roglo.eu/wizard_f?lang=fr;i=7771085;o=1\"\\ntitle=\"Comment apparaît cette personne pour les amis?\">\\n<img src=\"https://img.roglo.eu/restricted.png\" width=\"16\" height=\"16\" alt=\" (x)\" /></a>\\n\\n<!-- VaetVient roglo 01/07/2018 -->\\n<input type=text size=48 value=\"[[emmanuelle/laurent/1/Emmanuelle Laurent]]\">\\n \\n\\n<a href=\"https://www.geneanet.org/fonds/individus/?nom=Laurent&prenom=Emmanuelle&prenom_operateur=and\">\\n<img src=\"https://img.roglo.eu/G.jpg\">\\n</a>\\n</h1>\\n\\n\\n\\n\\n<body>\\n\\n\\n\\n<h3 class=\"highlight\">Parents</h3>\\n<ul>\\n<li style=\"list-style-type:circle\">\\n<a href=\"roglo_f?lang=fr;i=7771080\">Jean-Noël Laurent</a></li>\\n<li style=\"list-style-type:disc\">\\n<a href=\"roglo_f?lang=fr;i=7771078\">Cécile Simon</a></li>\\n</ul>\\n\\n\\n\\n<div style=\"text-align: center\"><table border=\"1\" style=\"width: 80%\">\\n<tr>\\n<td style=\"text-align: center;vertical-align: top\">\\n<table border=\"0\" cellspacing=\"0\" cellpadding=\"0\">\\n<tr>\\n<td colspan=\"7\" style=\"text-align: center\"><h3 class=\"highlight\" id=\"ancestors\">Ascendants</h3></td>\\n</tr>\\n <tr>\\n<td colspan=\"3\" rowspan=\"4\">&nbsp;</td>\\n<td>&nbsp;</td>\\n<td style=\"text-align: center;font-size: 80%\"><img src=\"https://img.roglo.eu/male.png\" title=\"H\" width=\"10\" height=\"10\" style=\"border: none\" alt=\"\" /> <a href=\"roglo_f?lang=fr;i=7771093\">Jacques-Charles Simon</a>\\n <em><bdo dir=\"ltr\" class=\"inline-short-dates-text\">1926-2012</bdo></em></td>\\n<td>&nbsp;</td>\\n<td style=\"text-align: center;font-size: 80%\"><img src=\"https://img.roglo.eu/female.png\" title=\"F\" width=\"10\" height=\"10\" style=\"border: none\" alt=\"\" /> <a href=\"roglo_f?lang=fr;i=7771094\">Thérèse Depersin</a>\\n <em><bdo dir=\"ltr\" class=\"inline-short-dates-text\">1929-2020</bdo></em></td>\\n</tr>\\n<tr>\\n<td>&nbsp;</td>\\n<td style=\"text-align: center;\">|</td>\\n<td>&nbsp;</td>\\n<td style=\"text-align: center;\">|</td>\\n</tr>\\n<tr>\\n<td>&nbsp;</td>\\n<td align=\"right\">\\n<hr dir=\"ltr\" width=\"50%\" align=\"right\" /></td>\\n<td><hr width=\"100%\" /></td>\\n<td align=\"left\">\\n<hr dir=\"ltr\" width=\"50%\" align=\"left\" /></td>\\n</tr>\\n<tr>\\n<td>&nbsp;</td>\\n<td colspan=\"3\" style=\"text-align: center\">|</td>\\n</tr>\\n<tr>\\n<td colspan=\"3\" style=\"text-align: center\"><img src=\"https://img.roglo.eu/male.png\" title=\"H\" width=\"13\" height=\"13\" style=\"border: none\" alt=\"\" /> <a href=\"roglo_f?lang=fr;i=7771080\">Jean-Noël Laurent</a>\\n</td>\\n<td>&nbsp;</td>\\n<td colspan=\"3\" style=\"text-align: center\"><img src=\"https://img.roglo.eu/female.png\" title=\"F\" width=\"13\" height=\"13\" style=\"border: none\" alt=\"\" /> <a href=\"roglo_f?lang=fr;i=7771078\">Cécile Simon</a>\\n</td>\\n</tr>\\n<tr>\\n<td colspan=\"3\" style=\"text-align: center;\">|</td>\\n<td>&nbsp;</td>\\n<td colspan=\"3\" style=\"text-align: center;\">|</td>\\n</tr>\\n<tr>\\n<td colspan=\"3\" align=\"right\">\\n<hr dir=\"ltr\" width=\"50%\" align=\"right\" /></td>\\n<td><hr width=\"100%\" /></td>\\n<td colspan=\"3\" align=\"left\">\\n<hr dir=\"ltr\" width=\"50%\" align=\"left\" /></td>\\n</tr>\\n<tr>\\n<td colspan=\"7\" style=\"text-align: center\">|</td>\\n</tr>\\n<tr>\\n<td colspan=\"7\" style=\"text-align: center\"><img src=\"https://img.roglo.eu/female.png\" title=\"F\" width=\"13\" height=\"13\" style=\"border: none\" alt=\"\" /> <b>Emmanuelle Laurent</b></td>\\n</tr>\\n</table>\\n</td>\\n<td style=\"text-align: left;vertical-align: top\">\\n<h3 class=\"highlight\" id=\"siblings\" style=\"text-align: left\"> &nbsp; Fratrie</h3>\\n<ul>\\n<li class=\"nodesc\"><img src=\"https://img.roglo.eu/male.png\" title=\"H\" width=\"13\" height=\"13\" style=\"border: none\" alt=\"\" /> <a href=\"roglo_f?lang=fr;i=7771081\">Guillaume Laurent</a>\\n</li>\\n<li class=\"nospou\"><img src=\"https://img.roglo.eu/male.png\" title=\"H\" width=\"13\" height=\"13\" style=\"border: none\" alt=\"\" /> <a href=\"roglo_f?lang=fr;i=7771082\">François Laurent</a>\\n</li>\\n<li class=\"nodesc\"><img src=\"https://img.roglo.eu/female.png\" title=\"F\" width=\"13\" height=\"13\" style=\"border: none\" alt=\"\" /> <a href=\"roglo_f?lang=fr;i=7771083\">Cécile Laurent</a>\\n</li>\\n<li class=\"nodesc\"><img src=\"https://img.roglo.eu/male.png\" title=\"H\" width=\"13\" height=\"13\" style=\"border: none\" alt=\"\" /> <a href=\"roglo_f?lang=fr;i=7771084\">David Laurent</a>\\n</li>\\n<li class=\"nospou\"><img src=\"https://img.roglo.eu/female.png\" title=\"F\" width=\"13\" height=\"13\" style=\"border: none\" alt=\"\" /> <b>Emmanuelle Laurent</b></li>\\n</ul>\\n</td>\\n</tr>\\n</table></div>\\n\\n\\n<table style=\"float:left\"><tr><td style=\"font-size:80%\">\\n(<a href=\"roglo_f?lang=fr;i=7771085;linked_pages=yes;\" \\ntitle=\"Clicker ici testera la présence de pages liées, avec un coût de quelques secondes\">Test des pages liées</a>)\\n</td></tr></table>\\n<br>\\n\\n\\n<p>\\n<em style=\"font-size:80%\">Sources:<br />\\n - personne\\u202f: <a href=\"roglo_f?lang=fr;m=WIZNOTES;f=P.Mahieu\">P.Mahieu</a> (Faire-Part) 16 xii 2012<br />\\n</em>\\n</p>\\n\\n<table border=\"0\" width=\"90%\">\\n<tr>\\n<td align=\"center\">\\n<a href=\"roglo_f?lang=fr;m=R;i=7771085\"\\nclass=\"highlight\" accesskey=\"R\">Calcul de parenté (R)</a>\\n</td>\\n<td align=\"left\">\\n<ul style=\"list-style:inside\">\\n<li>\\n<a href=\"roglo_f?lang=fr;m=A;i=7771085\"\\nclass=\"highlight\">Ascendants</a></li>\\n<li>\\n<a href=\"roglo_f?lang=fr;m=C;i=7771085\"\\nclass=\"highlight\">Cousins</a></li>\\n<li>\\n<a href=\"roglo_f?lang=fr;i=7771084\" class=\"highlight\">Frère précédent</a></li>\\n</ul>\\n</td>\\n</tr>\\n</table>\\n\\n\\n\\n<button id=\"LienP\">\\nLien permanent</button>\\ncliquer sur ce bouton pour \"copier\" le lien permanent (vers la base roglo)\\n<script>\\nfunction copyToClipboard(text) {\\nif (window.clipboardData && window.clipboardData.setData) {\\n// IE specific code path to prevent textarea being shown while dialog is visible.\\nreturn clipboardData.setData(\"Text\", text);\\n\\n} else if (document.queryCommandSupported && document.queryCommandSupported(\"copy\")) {\\nvar textarea = document.createElement(\"textarea\");\\ntextarea.textContent = text;\\ntextarea.style.position = \"fixed\";  // Prevent scrolling to bottom of page in MS Edge.\\ndocument.body.appendChild(textarea);\\ntextarea.select();\\ntry {\\nreturn document.execCommand(\"copy\");  // Security exception may be thrown by some browsers.\\n} catch (ex) {\\nconsole.warn(\"Copy to clipboard failed.\", ex);\\nreturn false;\\n} finally {\\ndocument.body.removeChild(textarea);\\n}\\n}\\n}\\ndocument.querySelector(\"#LienP\").onclick = function() {\\nvar result = copyToClipboard(\"http://roglo.eu/roglo?lang=fr;p=emmanuelle;n=laurent;oc=1\");\\nconsole.log(\"copied?\", result);\\n};\\n</script>\\n\\n<div id=\"template\">\\n<hr/>\\n<table border=\"0\" >\\n<tr><td>\\n<a href=\"roglo_f?lang=fr;\"><img src=\"https://img.roglo.eu/roglo.png\" alt=\"logo Roglo\" width=\"40\" style=\"border:0;margin-left:46px\" /></a>\\n</td><td style=\"text-align:justify\">\\n<span style=\"color: red; font-weight: bold;\">Important&nbsp;! Attention&nbsp;!</span> Cette base de données est une \\n<span style=\"color: red; font-weight: bold;\">copie de la base généalogique Roglo prise le 18 mars 2024 à 20:23 •</span>.<br/><b>Les modifications faites par les magiciens depuis cet instant n’y figurent pas encore.</b><br/>La base Roglo peut contenir des erreurs. Si vous avez des remarques, vous pouvez écrire dans le <a href=\"roglo_f?lang=fr;m=FORUM\"><u>forum</u></a> en précisant vos références ou <a href=\"roglo_f?lang=fr;m=WIZNOTES;o=A\"><u>au magicien</u></a> indiqué en source.\\n</td>\\n</tr>\\n<tr><td colspan=\"2\"><hr/></tr>\\n<tr><td width=\"189\">\\n\\n<a href=\"https://creativecommons.org/licenses/by-nc-nd/4.0/legalcode.fr\"><img src=\"https://img.roglo.eu/ccbyncnd.png\" alt=\"licence\" width=\"132\" style=\"border:0;float:left;margin-right:28px\" /></a></td><td>\\n<div style=\"border:2px solid;padding:8px;text-align:justify\">\\nLe contenu de la base généalogique Roglo est mis à disposition selon les termes de la <a href=\"https://creativecommons.org/licenses/by-nc-nd/4.0/legalcode.fr\">Licence Creative Commons</a><!-- Attribution - Utilisation non commerciale - Pas d’Œuvre dérivée--> 4.0 International : sa reproduction partielle par des tiers est autorisée à condition de citer le nom de l\\'auteur et la source, elle est restreinte à une utilisation non commerciale et sans modification du contenu.</div>\\n</td>\\n</tr></table>\\n</div>\\n<!-- copyr.txt hg 2018-10-16 18:50 -->\\n<div id=\"footer\">\\n<br />\\n<hr />\\n<div>\\n<em>\\n<script type=\"text/javascript\"><!--\\ndocument.write(\\'<a href=\"\\'+document.URL+\\';opt=no_index\">\\'+\"Page</a>\");\\n--></script>\\naffichée par <a href=\"https://github.com/geneweb/geneweb\" target=\"_blank\">\\n<img src=\"https://img.roglo.eu/logo_bas.png\"\\nstyle=\"vertical-align: middle; border: 0\"\\nalt=\"GeneWeb\" title=\"GeneWeb\" /></a> en 0.424 sec.<br />\\n</em>\\nVersion 6.08-roglo  (2023-05-23 15:34:39 CEST) Copyright &copy; 1998-2018 \\n\\n <a href=\"https://geneweb.tuxfamily.org/wiki/GeneWeb/fr\"\\ntarget=\"_blank\"\\ntitle=\"GeneWeb documentation MediaWiki\"><img src=\"https://img.roglo.eu/logo_bas_mw.png\"\\nstyle=\"vertical-align: middle; border: 0\"\\nalt=\"Logo GeneWeb wiki\" /></a>\\n<br />\\n</div>\\n</div>\\n</body>\\n</html>\\n',\n",
       "  'first_name': 'emmanuelle',\n",
       "  'last_name': 'laurent',\n",
       "  'father_id': 7771080,\n",
       "  'mother_id': 7771078},\n",
       " True)"
      ]
     },
     "execution_count": 90,
     "metadata": {},
     "output_type": "execute_result"
    }
   ],
   "source": [
    "app.get_ancestor(7771085)"
   ]
  },
  {
   "cell_type": "markdown",
   "metadata": {},
   "source": [
    "# Test on a page"
   ]
  },
  {
   "cell_type": "code",
   "execution_count": 89,
   "metadata": {},
   "outputs": [
    {
     "data": {
      "text/plain": [
       "'<!DOCTYPE html PUBLIC \"-//W3C//DTD XHTML 1.1//EN\"\\n \"http://www.w3.org/TR/xhtml11/DTD/xhtml11.dtd\">\\n<html xmlns=\"http://www.w3.org/1999/xhtml\">\\n<head>\\n<!-- $Id: perso.txt,v 6.08 2020-05-06 15:01:07 hg Exp $ -->\\n<!-- Copyright (c) 1998-2007 INRIA -->\\n<title>Emmanuelle.1 Laurent</title>\\n<meta http-equiv=\"Content-Style-Type\" content=\"text/css\" />\\n<meta http-equiv=\"Content-Type\" content=\"text/html; charset=utf-8\" />\\n<meta name=\"robots\" content=\"none\" />\\n<script type=\"text/javascript\">\\n<!--\\nvar gw_image_prefix = \"https://img.roglo.eu\";\\nvar gw_lang = \"fr\";\\nvar gw_user_name = \"Alexis Lenoir\";\\nvar gw_geo = 0;\\n-->\\n</script>\\n\\n<!-- base:  %base.name?,  %b?,  %s?, \"roglo_f?\", w: , f: friend, -->\\n\\n\\n<link rel=\"shortcut icon\" href=\"https://img.roglo.eu/gw.png\" />\\n<link href=\"https://img.roglo.eu/default.css\" type=\"text/css\" rel=\"stylesheet\"  />\\n<style type=\"text/css\">\\nbody {\\nbackground-image: url(\"https://img.roglo.eu/gwback.jpg\");\\n}\\n/* roglo, roglo_f? */\\nimg { border:0px; }\\n</style>\\n\\n<link rel=\"shortcut icon\" href=\"https://img.roglo.eu/bfemale.png\"  />\\n<script type=\"text/javascript\" src=\\'https://img.roglo.eu/inc/pays-fr.js\\'></script>\\n<script type=\"text/javascript\" src=\\'https://img.roglo.eu/inc/lieu.js\\'></script>\\n<script type=\"text/javascript\">\\ntraite_lieu = 0;\\n</script>\\n<script type=\"text/javascript\" src=\"jquery_1_9_1_min.js\"></script>\\n<!-- $Id: css.txt rg Exp $ -->\\n<link href=\"https://img.roglo.eu/default.css\" type=\"text/css\" rel=\"stylesheet\"  />\\n\\n</head>\\n\\n\\n<!-- perso_header.txt 2018-07-30 hg -->\\n\\n<!-- $Id: menubar.txt,v 1.0 2018/07/03 09:53:12 hg Exp $ -->\\n\\n<ul id=\"menuBar\">\\n<li class=\"person on\">\\n<a href=\"roglo_f?lang=fr;i=7771085\">\\n<span class=\"text\">bouton fiche</span>\\n</a>\\n</li>\\n\\n\\n\\n<li class=\"liste \">\\n<a href=\"roglo_f?lang=fr;m=A;i=7771085\" alt=\"Ascendants et descendants\" title=\"Ascendants et descendants\">\\n<span class=\"text\">bouton listes et états</span>\\n</a>\\n<div>\\n<ul>\\n<li><a href=\"roglo_f?lang=fr;m=A;i=7771085\">Ascendants</a></li>\\n\\n</ul>\\n</div>\\n</li>\\n\\n<li class=\"parente \">\\n<a href=\"roglo_f?lang=fr;m=R;i=7771085\" accesskey=\"R\" alt=\"Parenté\" title=\"Parenté\">\\n<span class=\"text\">bouton parenté</span>\\n</a>\\n<div>\\n<ul>\\n<li>\\n<a href=\"roglo_f?lang=fr;i=7771085;m=C;t=AN\">Anniversaires des proches</a>\\n</li>\\n\\n<li class=\"menubar_separateur\">&nbsp;</li>\\n\\n</ul>\\n</div>\\n</li>\\n\\n<li class=\"misc \">\\n<a href=\"javascript:;\" alt=\"Divers\" title=\"Divers\">\\n<span class=\"text\">bouton misc</span>\\n</a>\\n<div>\\n<ul>\\n\\n<li>\\n<a href=\"roglo_f?lang=fr;iz=7771085;i=7771085\">\\nNavigation avec Emmanuelle Laurent  comme référence Sosa.\\n</a>\\n</li>\\n<li>\\n<a href=\"roglo_f?lang=fr;i=7771084\">\\nFrère précédent</a>\\n</li>\\n</ul>\\n</div>\\n</li>\\n</ul>\\n<script type=\"text/javascript\">\\n$(document).ready(function(){\\n$(\"#menuBar > li > div\").click(function(){\\n$(\"#menuBar > li div.hover\").removeClass(\"hover\");\\n$(\"#menuBar > li.hover\").removeClass(\"hover\");\\n$(\"#menuBar > li > div li\").removeClass(\"hover\");\\n$(this).parent().toggleClass(\"hover\");\\n$(this).toggleClass(\"hover\");\\nreturn false;\\n});\\n\\n$(\"#menuBar > li.misc > a\").click(function(){\\n$(\"#menuBar > li div.hover\").removeClass(\"hover\");\\n$(\"#menuBar > li.hover\").removeClass(\"hover\");\\n$(\"#menuBar > li > div li\").removeClass(\"hover\");\\n$(this).parent().toggleClass(\"hover\");\\n$(this).parent().children(\"div\").toggleClass(\"hover\");\\nreturn false;\\n});\\n\\n$(\"#menuBar > li.liste > a\").click(function(){\\n$(\"#menuBar > li div.hover\").removeClass(\"hover\");\\n$(\"#menuBar > li.hover\").removeClass(\"hover\");\\n$(\"#menuBar > li > div li\").removeClass(\"hover\");\\n$(this).parent().toggleClass(\"hover\");\\n$(this).parent().children(\"div\").toggleClass(\"hover\");\\nreturn false;\\n});\\n\\n$(\"#menuBar > li > div li\").click(function(){\\n$(\"#menuBar > li > div li\").removeClass(\"hover\");\\n$(this).toggleClass(\"hover\");\\nreturn false;\\n});\\n\\n$(\"#menuBar > li > div li a\").click(function(){\\nif(typeof ($(this).attr(\"onclick\")) == \"undefined\" || $(this).attr(\"onclick\") == \"\"){\\nwindow.location = $(this).attr(\"href\");\\nreturn false;\\n}\\n});\\n\\n$(document).click(function(){\\n$(\"#menuBar > li div.hover\").removeClass(\"hover\");\\n$(\"#menuBar > li.hover\").removeClass(\"hover\");\\n$(\"#menuBar > li > div li\").removeClass(\"hover\");\\n});\\n});\\n</script>\\n\\n<table style=\"float:right\">\\n<tr>\\n<td>\\n<a href=\"roglo_f?lang=fr;\"><img src=\"https://img.roglo.eu/up.png\" width=\"24\" height=\"29\" \\nstyle=\"border: 0\" alt=\"^^\" title=\"^^\" /></a>\\n</td>\\n</tr>\\n</table>\\n\\n<h1>\\n<a href=\"roglo_f?lang=fr;templ=rg;i=7771085;\">\\n<img src=\"https://img.roglo.eu/file.png\" width=\"29\" height=\"24\"\\nstyle=\"border: 0\" alt=\"Tpl\" title=\"Switch Template\" /></a>\\n\\n<img width=\"\" height=\"\" src=\"https://img.roglo.eu/female.png\" style=\"border: none\" alt=\"F\" /> <a href=\"roglo_f?lang=fr;m=P;v=emmanuelle\">Emmanuelle</a>\\n<a href=\"roglo_f?lang=fr;m=N;v=laurent\">Laurent</a>\\n&nbsp;\\n<a href=\"roglo_f?lang=fr;;em=R;ei=7771085;m=NG;select=input;n=alexis.3+lenoir;t=PN;spouse=on;long=on;et=S\"\\ntitle=\"Chemin le plus court entre moi et cette personne\">\\n<img src=\"https://img.roglo.eu/link.jpg\" alt=\"W\" /></a>\\n<a href=\"http://roglo.eu/wizard_f?lang=fr;i=7771085;o=1\"\\ntitle=\"Comment apparaît cette personne pour les amis?\">\\n<img src=\"https://img.roglo.eu/restricted.png\" width=\"16\" height=\"16\" alt=\" (x)\" /></a>\\n\\n<!-- VaetVient roglo 01/07/2018 -->\\n<input type=text size=48 value=\"[[emmanuelle/laurent/1/Emmanuelle Laurent]]\">\\n \\n\\n<a href=\"https://www.geneanet.org/fonds/individus/?nom=Laurent&prenom=Emmanuelle&prenom_operateur=and\">\\n<img src=\"https://img.roglo.eu/G.jpg\">\\n</a>\\n</h1>\\n\\n\\n\\n\\n<body>\\n\\n\\n\\n<h3 class=\"highlight\">Parents</h3>\\n<ul>\\n<li style=\"list-style-type:circle\">\\n<a href=\"roglo_f?lang=fr;i=7771080\">Jean-Noël Laurent</a></li>\\n<li style=\"list-style-type:disc\">\\n<a href=\"roglo_f?lang=fr;i=7771078\">Cécile Simon</a></li>\\n</ul>\\n\\n\\n\\n<div style=\"text-align: center\"><table border=\"1\" style=\"width: 80%\">\\n<tr>\\n<td style=\"text-align: center;vertical-align: top\">\\n<table border=\"0\" cellspacing=\"0\" cellpadding=\"0\">\\n<tr>\\n<td colspan=\"7\" style=\"text-align: center\"><h3 class=\"highlight\" id=\"ancestors\">Ascendants</h3></td>\\n</tr>\\n <tr>\\n<td colspan=\"3\" rowspan=\"4\">&nbsp;</td>\\n<td>&nbsp;</td>\\n<td style=\"text-align: center;font-size: 80%\"><img src=\"https://img.roglo.eu/male.png\" title=\"H\" width=\"10\" height=\"10\" style=\"border: none\" alt=\"\" /> <a href=\"roglo_f?lang=fr;i=7771093\">Jacques-Charles Simon</a>\\n <em><bdo dir=\"ltr\" class=\"inline-short-dates-text\">1926-2012</bdo></em></td>\\n<td>&nbsp;</td>\\n<td style=\"text-align: center;font-size: 80%\"><img src=\"https://img.roglo.eu/female.png\" title=\"F\" width=\"10\" height=\"10\" style=\"border: none\" alt=\"\" /> <a href=\"roglo_f?lang=fr;i=7771094\">Thérèse Depersin</a>\\n <em><bdo dir=\"ltr\" class=\"inline-short-dates-text\">1929-2020</bdo></em></td>\\n</tr>\\n<tr>\\n<td>&nbsp;</td>\\n<td style=\"text-align: center;\">|</td>\\n<td>&nbsp;</td>\\n<td style=\"text-align: center;\">|</td>\\n</tr>\\n<tr>\\n<td>&nbsp;</td>\\n<td align=\"right\">\\n<hr dir=\"ltr\" width=\"50%\" align=\"right\" /></td>\\n<td><hr width=\"100%\" /></td>\\n<td align=\"left\">\\n<hr dir=\"ltr\" width=\"50%\" align=\"left\" /></td>\\n</tr>\\n<tr>\\n<td>&nbsp;</td>\\n<td colspan=\"3\" style=\"text-align: center\">|</td>\\n</tr>\\n<tr>\\n<td colspan=\"3\" style=\"text-align: center\"><img src=\"https://img.roglo.eu/male.png\" title=\"H\" width=\"13\" height=\"13\" style=\"border: none\" alt=\"\" /> <a href=\"roglo_f?lang=fr;i=7771080\">Jean-Noël Laurent</a>\\n</td>\\n<td>&nbsp;</td>\\n<td colspan=\"3\" style=\"text-align: center\"><img src=\"https://img.roglo.eu/female.png\" title=\"F\" width=\"13\" height=\"13\" style=\"border: none\" alt=\"\" /> <a href=\"roglo_f?lang=fr;i=7771078\">Cécile Simon</a>\\n</td>\\n</tr>\\n<tr>\\n<td colspan=\"3\" style=\"text-align: center;\">|</td>\\n<td>&nbsp;</td>\\n<td colspan=\"3\" style=\"text-align: center;\">|</td>\\n</tr>\\n<tr>\\n<td colspan=\"3\" align=\"right\">\\n<hr dir=\"ltr\" width=\"50%\" align=\"right\" /></td>\\n<td><hr width=\"100%\" /></td>\\n<td colspan=\"3\" align=\"left\">\\n<hr dir=\"ltr\" width=\"50%\" align=\"left\" /></td>\\n</tr>\\n<tr>\\n<td colspan=\"7\" style=\"text-align: center\">|</td>\\n</tr>\\n<tr>\\n<td colspan=\"7\" style=\"text-align: center\"><img src=\"https://img.roglo.eu/female.png\" title=\"F\" width=\"13\" height=\"13\" style=\"border: none\" alt=\"\" /> <b>Emmanuelle Laurent</b></td>\\n</tr>\\n</table>\\n</td>\\n<td style=\"text-align: left;vertical-align: top\">\\n<h3 class=\"highlight\" id=\"siblings\" style=\"text-align: left\"> &nbsp; Fratrie</h3>\\n<ul>\\n<li class=\"nodesc\"><img src=\"https://img.roglo.eu/male.png\" title=\"H\" width=\"13\" height=\"13\" style=\"border: none\" alt=\"\" /> <a href=\"roglo_f?lang=fr;i=7771081\">Guillaume Laurent</a>\\n</li>\\n<li class=\"nospou\"><img src=\"https://img.roglo.eu/male.png\" title=\"H\" width=\"13\" height=\"13\" style=\"border: none\" alt=\"\" /> <a href=\"roglo_f?lang=fr;i=7771082\">François Laurent</a>\\n</li>\\n<li class=\"nodesc\"><img src=\"https://img.roglo.eu/female.png\" title=\"F\" width=\"13\" height=\"13\" style=\"border: none\" alt=\"\" /> <a href=\"roglo_f?lang=fr;i=7771083\">Cécile Laurent</a>\\n</li>\\n<li class=\"nodesc\"><img src=\"https://img.roglo.eu/male.png\" title=\"H\" width=\"13\" height=\"13\" style=\"border: none\" alt=\"\" /> <a href=\"roglo_f?lang=fr;i=7771084\">David Laurent</a>\\n</li>\\n<li class=\"nospou\"><img src=\"https://img.roglo.eu/female.png\" title=\"F\" width=\"13\" height=\"13\" style=\"border: none\" alt=\"\" /> <b>Emmanuelle Laurent</b></li>\\n</ul>\\n</td>\\n</tr>\\n</table></div>\\n\\n\\n<table style=\"float:left\"><tr><td style=\"font-size:80%\">\\n(<a href=\"roglo_f?lang=fr;i=7771085;linked_pages=yes;\" \\ntitle=\"Clicker ici testera la présence de pages liées, avec un coût de quelques secondes\">Test des pages liées</a>)\\n</td></tr></table>\\n<br>\\n\\n\\n<p>\\n<em style=\"font-size:80%\">Sources:<br />\\n - personne\\u202f: <a href=\"roglo_f?lang=fr;m=WIZNOTES;f=P.Mahieu\">P.Mahieu</a> (Faire-Part) 16 xii 2012<br />\\n</em>\\n</p>\\n\\n<table border=\"0\" width=\"90%\">\\n<tr>\\n<td align=\"center\">\\n<a href=\"roglo_f?lang=fr;m=R;i=7771085\"\\nclass=\"highlight\" accesskey=\"R\">Calcul de parenté (R)</a>\\n</td>\\n<td align=\"left\">\\n<ul style=\"list-style:inside\">\\n<li>\\n<a href=\"roglo_f?lang=fr;m=A;i=7771085\"\\nclass=\"highlight\">Ascendants</a></li>\\n<li>\\n<a href=\"roglo_f?lang=fr;m=C;i=7771085\"\\nclass=\"highlight\">Cousins</a></li>\\n<li>\\n<a href=\"roglo_f?lang=fr;i=7771084\" class=\"highlight\">Frère précédent</a></li>\\n</ul>\\n</td>\\n</tr>\\n</table>\\n\\n\\n\\n<button id=\"LienP\">\\nLien permanent</button>\\ncliquer sur ce bouton pour \"copier\" le lien permanent (vers la base roglo)\\n<script>\\nfunction copyToClipboard(text) {\\nif (window.clipboardData && window.clipboardData.setData) {\\n// IE specific code path to prevent textarea being shown while dialog is visible.\\nreturn clipboardData.setData(\"Text\", text);\\n\\n} else if (document.queryCommandSupported && document.queryCommandSupported(\"copy\")) {\\nvar textarea = document.createElement(\"textarea\");\\ntextarea.textContent = text;\\ntextarea.style.position = \"fixed\";  // Prevent scrolling to bottom of page in MS Edge.\\ndocument.body.appendChild(textarea);\\ntextarea.select();\\ntry {\\nreturn document.execCommand(\"copy\");  // Security exception may be thrown by some browsers.\\n} catch (ex) {\\nconsole.warn(\"Copy to clipboard failed.\", ex);\\nreturn false;\\n} finally {\\ndocument.body.removeChild(textarea);\\n}\\n}\\n}\\ndocument.querySelector(\"#LienP\").onclick = function() {\\nvar result = copyToClipboard(\"http://roglo.eu/roglo?lang=fr;p=emmanuelle;n=laurent;oc=1\");\\nconsole.log(\"copied?\", result);\\n};\\n</script>\\n\\n<div id=\"template\">\\n<hr/>\\n<table border=\"0\" >\\n<tr><td>\\n<a href=\"roglo_f?lang=fr;\"><img src=\"https://img.roglo.eu/roglo.png\" alt=\"logo Roglo\" width=\"40\" style=\"border:0;margin-left:46px\" /></a>\\n</td><td style=\"text-align:justify\">\\n<span style=\"color: red; font-weight: bold;\">Important&nbsp;! Attention&nbsp;!</span> Cette base de données est une \\n<span style=\"color: red; font-weight: bold;\">copie de la base généalogique Roglo prise le 18 mars 2024 à 20:23 •</span>.<br/><b>Les modifications faites par les magiciens depuis cet instant n’y figurent pas encore.</b><br/>La base Roglo peut contenir des erreurs. Si vous avez des remarques, vous pouvez écrire dans le <a href=\"roglo_f?lang=fr;m=FORUM\"><u>forum</u></a> en précisant vos références ou <a href=\"roglo_f?lang=fr;m=WIZNOTES;o=A\"><u>au magicien</u></a> indiqué en source.\\n</td>\\n</tr>\\n<tr><td colspan=\"2\"><hr/></tr>\\n<tr><td width=\"189\">\\n\\n<a href=\"https://creativecommons.org/licenses/by-nc-nd/4.0/legalcode.fr\"><img src=\"https://img.roglo.eu/ccbyncnd.png\" alt=\"licence\" width=\"132\" style=\"border:0;float:left;margin-right:28px\" /></a></td><td>\\n<div style=\"border:2px solid;padding:8px;text-align:justify\">\\nLe contenu de la base généalogique Roglo est mis à disposition selon les termes de la <a href=\"https://creativecommons.org/licenses/by-nc-nd/4.0/legalcode.fr\">Licence Creative Commons</a><!-- Attribution - Utilisation non commerciale - Pas d’Œuvre dérivée--> 4.0 International : sa reproduction partielle par des tiers est autorisée à condition de citer le nom de l\\'auteur et la source, elle est restreinte à une utilisation non commerciale et sans modification du contenu.</div>\\n</td>\\n</tr></table>\\n</div>\\n<!-- copyr.txt hg 2018-10-16 18:50 -->\\n<div id=\"footer\">\\n<br />\\n<hr />\\n<div>\\n<em>\\n<script type=\"text/javascript\"><!--\\ndocument.write(\\'<a href=\"\\'+document.URL+\\';opt=no_index\">\\'+\"Page</a>\");\\n--></script>\\naffichée par <a href=\"https://github.com/geneweb/geneweb\" target=\"_blank\">\\n<img src=\"https://img.roglo.eu/logo_bas.png\"\\nstyle=\"vertical-align: middle; border: 0\"\\nalt=\"GeneWeb\" title=\"GeneWeb\" /></a> en 0.440 sec.<br />\\n</em>\\nVersion 6.08-roglo  (2023-05-23 15:34:39 CEST) Copyright &copy; 1998-2018 \\n\\n <a href=\"https://geneweb.tuxfamily.org/wiki/GeneWeb/fr\"\\ntarget=\"_blank\"\\ntitle=\"GeneWeb documentation MediaWiki\"><img src=\"https://img.roglo.eu/logo_bas_mw.png\"\\nstyle=\"vertical-align: middle; border: 0\"\\nalt=\"Logo GeneWeb wiki\" /></a>\\n<br />\\n</div>\\n</div>\\n</body>\\n</html>\\n'"
      ]
     },
     "execution_count": 89,
     "metadata": {},
     "output_type": "execute_result"
    }
   ],
   "source": [
    "ancestor_page = app.get_ancestor_page('7771085')\n",
    "parsed_page = BeautifulSoup(ancestor_page, 'html.parser')"
   ]
  },
  {
   "cell_type": "code",
   "execution_count": 91,
   "metadata": {},
   "outputs": [
    {
     "data": {
      "text/plain": [
       "('emmanuelle', 'laurent')"
      ]
     },
     "execution_count": 91,
     "metadata": {},
     "output_type": "execute_result"
    }
   ],
   "source": [
    "app.get_names(parsed_page)"
   ]
  },
  {
   "cell_type": "code",
   "execution_count": 92,
   "metadata": {},
   "outputs": [
    {
     "data": {
      "text/plain": [
       "True"
      ]
     },
     "execution_count": 92,
     "metadata": {},
     "output_type": "execute_result"
    }
   ],
   "source": [
    "app.test_parents_existence(parsed_page)"
   ]
  },
  {
   "cell_type": "code",
   "execution_count": 93,
   "metadata": {},
   "outputs": [
    {
     "data": {
      "text/plain": [
       "(7771080, 7771078)"
      ]
     },
     "execution_count": 93,
     "metadata": {},
     "output_type": "execute_result"
    }
   ],
   "source": [
    "app.get_parent_id(parsed_page)"
   ]
  }
 ],
 "metadata": {
  "kernelspec": {
   "display_name": ".venv",
   "language": "python",
   "name": "python3"
  },
  "language_info": {
   "codemirror_mode": {
    "name": "ipython",
    "version": 3
   },
   "file_extension": ".py",
   "mimetype": "text/x-python",
   "name": "python",
   "nbconvert_exporter": "python",
   "pygments_lexer": "ipython3",
   "version": "3.10.8"
  }
 },
 "nbformat": 4,
 "nbformat_minor": 2
}
